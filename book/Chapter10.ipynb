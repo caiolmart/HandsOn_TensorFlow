{
 "cells": [
  {
   "cell_type": "markdown",
   "metadata": {},
   "source": [
    "# Chapter 10: Introduction to Artificial Neural Networks"
   ]
  },
  {
   "cell_type": "code",
   "execution_count": 1,
   "metadata": {
    "collapsed": true
   },
   "outputs": [],
   "source": [
    "%load_ext autotime"
   ]
  },
  {
   "cell_type": "code",
   "execution_count": 2,
   "metadata": {
    "collapsed": false
   },
   "outputs": [
    {
     "name": "stdout",
     "output_type": "stream",
     "text": [
      "time: 56.5 s\n"
     ]
    }
   ],
   "source": [
    "import tensorflow as tf\n",
    "import numpy as np\n",
    "from sklearn.datasets import fetch_mldata\n",
    "from sklearn.preprocessing import StandardScaler\n",
    "from sklearn.metrics import accuracy_score\n",
    "import os\n",
    "from datetime import datetime"
   ]
  },
  {
   "cell_type": "markdown",
   "metadata": {},
   "source": [
    "## Loading MNIST dataset"
   ]
  },
  {
   "cell_type": "code",
   "execution_count": 3,
   "metadata": {
    "collapsed": false
   },
   "outputs": [
    {
     "name": "stderr",
     "output_type": "stream",
     "text": [
      "/home/caiolmartinelli/.local/lib/python3.6/site-packages/sklearn/utils/deprecation.py:77: DeprecationWarning: Function fetch_mldata is deprecated; fetch_mldata was deprecated in version 0.20 and will be removed in version 0.22\n",
      "  warnings.warn(msg, category=DeprecationWarning)\n",
      "/home/caiolmartinelli/.local/lib/python3.6/site-packages/sklearn/utils/deprecation.py:77: DeprecationWarning: Function mldata_filename is deprecated; mldata_filename was deprecated in version 0.20 and will be removed in version 0.22\n",
      "  warnings.warn(msg, category=DeprecationWarning)\n"
     ]
    },
    {
     "data": {
      "text/plain": [
       "{'DESCR': 'mldata.org dataset: mnist-original',\n",
       " 'COL_NAMES': ['label', 'data'],\n",
       " 'target': array([0., 0., 0., ..., 9., 9., 9.]),\n",
       " 'data': array([[0, 0, 0, ..., 0, 0, 0],\n",
       "        [0, 0, 0, ..., 0, 0, 0],\n",
       "        [0, 0, 0, ..., 0, 0, 0],\n",
       "        ...,\n",
       "        [0, 0, 0, ..., 0, 0, 0],\n",
       "        [0, 0, 0, ..., 0, 0, 0],\n",
       "        [0, 0, 0, ..., 0, 0, 0]], dtype=uint8)}"
      ]
     },
     "execution_count": 3,
     "metadata": {},
     "output_type": "execute_result"
    },
    {
     "name": "stdout",
     "output_type": "stream",
     "text": [
      "time: 980 ms\n"
     ]
    }
   ],
   "source": [
    "mnist = fetch_mldata('MNIST original')\n",
    "mnist"
   ]
  },
  {
   "cell_type": "code",
   "execution_count": 4,
   "metadata": {
    "collapsed": false
   },
   "outputs": [
    {
     "data": {
      "text/plain": [
       "(70000, 784)"
      ]
     },
     "execution_count": 4,
     "metadata": {},
     "output_type": "execute_result"
    },
    {
     "name": "stdout",
     "output_type": "stream",
     "text": [
      "time: 6.64 ms\n"
     ]
    }
   ],
   "source": [
    "X, y = mnist['data'], mnist['target']\n",
    "X.shape"
   ]
  },
  {
   "cell_type": "code",
   "execution_count": 5,
   "metadata": {
    "collapsed": false
   },
   "outputs": [
    {
     "name": "stdout",
     "output_type": "stream",
     "text": [
      "time: 149 ms\n"
     ]
    }
   ],
   "source": [
    "X_train, X_test = X[:60000], X[60000:]\n",
    "y_train, y_test = np.int32(y[:60000]), np.int32(y[60000:])"
   ]
  },
  {
   "cell_type": "code",
   "execution_count": 6,
   "metadata": {
    "collapsed": false
   },
   "outputs": [
    {
     "name": "stdout",
     "output_type": "stream",
     "text": [
      "time: 76.3 ms\n"
     ]
    }
   ],
   "source": [
    "scaler = StandardScaler()"
   ]
  },
  {
   "cell_type": "code",
   "execution_count": 7,
   "metadata": {
    "collapsed": false
   },
   "outputs": [
    {
     "name": "stdout",
     "output_type": "stream",
     "text": [
      "time: 1.37 s\n"
     ]
    }
   ],
   "source": [
    "X_train_scaled = scaler.fit_transform(np.float32(X_train))\n",
    "X_test_scaled = scaler.transform(np.float32(X_test))"
   ]
  },
  {
   "cell_type": "markdown",
   "metadata": {},
   "source": [
    "## Training an MLP with TensorFlow's High-Level API"
   ]
  },
  {
   "cell_type": "code",
   "execution_count": 8,
   "metadata": {
    "collapsed": false
   },
   "outputs": [
    {
     "name": "stdout",
     "output_type": "stream",
     "text": [
      "\n",
      "WARNING: The TensorFlow contrib module will not be included in TensorFlow 2.0.\n",
      "For more information, please see:\n",
      "  * https://github.com/tensorflow/community/blob/master/rfcs/20180907-contrib-sunset.md\n",
      "  * https://github.com/tensorflow/addons\n",
      "If you depend on functionality not listed there, please file an issue.\n",
      "\n",
      "WARNING:tensorflow:From <ipython-input-8-0c5cfbae2040>:1: infer_real_valued_columns_from_input (from tensorflow.contrib.learn.python.learn.estimators.estimator) is deprecated and will be removed in a future version.\n",
      "Instructions for updating:\n",
      "Please specify feature columns explicitly.\n",
      "WARNING:tensorflow:From /home/caiolmartinelli/.local/lib/python3.6/site-packages/tensorflow/contrib/learn/python/learn/estimators/estimator.py:143: setup_train_data_feeder (from tensorflow.contrib.learn.python.learn.learn_io.data_feeder) is deprecated and will be removed in a future version.\n",
      "Instructions for updating:\n",
      "Please use tensorflow/transform or tf.data.\n",
      "WARNING:tensorflow:From /home/caiolmartinelli/.local/lib/python3.6/site-packages/tensorflow/contrib/learn/python/learn/learn_io/data_feeder.py:100: extract_pandas_data (from tensorflow.contrib.learn.python.learn.learn_io.pandas_io) is deprecated and will be removed in a future version.\n",
      "Instructions for updating:\n",
      "Please access pandas data directly.\n",
      "WARNING:tensorflow:From /home/caiolmartinelli/.local/lib/python3.6/site-packages/tensorflow/contrib/learn/python/learn/learn_io/data_feeder.py:159: DataFeeder.__init__ (from tensorflow.contrib.learn.python.learn.learn_io.data_feeder) is deprecated and will be removed in a future version.\n",
      "Instructions for updating:\n",
      "Please use tensorflow/transform or tf.data.\n",
      "WARNING:tensorflow:From /home/caiolmartinelli/.local/lib/python3.6/site-packages/tensorflow/contrib/learn/python/learn/learn_io/data_feeder.py:340: check_array (from tensorflow.contrib.learn.python.learn.learn_io.data_feeder) is deprecated and will be removed in a future version.\n",
      "Instructions for updating:\n",
      "Please convert numpy dtypes explicitly.\n",
      "WARNING:tensorflow:From /home/caiolmartinelli/.local/lib/python3.6/site-packages/tensorflow/contrib/learn/python/learn/estimators/estimator.py:183: infer_real_valued_columns_from_input_fn (from tensorflow.contrib.learn.python.learn.estimators.estimator) is deprecated and will be removed in a future version.\n",
      "Instructions for updating:\n",
      "Please specify feature columns explicitly.\n",
      "WARNING:tensorflow:From /home/caiolmartinelli/.local/lib/python3.6/site-packages/tensorflow/contrib/learn/python/learn/estimators/dnn.py:378: multi_class_head (from tensorflow.contrib.learn.python.learn.estimators.head) is deprecated and will be removed in a future version.\n",
      "Instructions for updating:\n",
      "Please switch to tf.contrib.estimator.*_head.\n",
      "WARNING:tensorflow:From /home/caiolmartinelli/.local/lib/python3.6/site-packages/tensorflow/contrib/learn/python/learn/estimators/estimator.py:1179: BaseEstimator.__init__ (from tensorflow.contrib.learn.python.learn.estimators.estimator) is deprecated and will be removed in a future version.\n",
      "Instructions for updating:\n",
      "Please replace uses of any Estimator from tf.contrib.learn with an Estimator from tf.estimator.*\n",
      "WARNING:tensorflow:From /home/caiolmartinelli/.local/lib/python3.6/site-packages/tensorflow/contrib/learn/python/learn/estimators/estimator.py:427: RunConfig.__init__ (from tensorflow.contrib.learn.python.learn.estimators.run_config) is deprecated and will be removed in a future version.\n",
      "Instructions for updating:\n",
      "When switching to tf.estimator.Estimator, use tf.estimator.RunConfig instead.\n",
      "INFO:tensorflow:Using default config.\n",
      "WARNING:tensorflow:Using temporary folder as model directory: /tmp/tmpn1nrxy1e\n",
      "INFO:tensorflow:Using config: {'_task_type': None, '_task_id': 0, '_cluster_spec': <tensorflow.python.training.server_lib.ClusterSpec object at 0x7f685d366518>, '_master': '', '_num_ps_replicas': 0, '_num_worker_replicas': 0, '_environment': 'local', '_is_chief': True, '_evaluation_master': '', '_train_distribute': None, '_eval_distribute': None, '_device_fn': None, '_tf_config': gpu_options {\n",
      "  per_process_gpu_memory_fraction: 1.0\n",
      "}\n",
      ", '_tf_random_seed': None, '_save_summary_steps': 100, '_save_checkpoints_secs': 600, '_log_step_count_steps': 100, '_protocol': None, '_session_config': None, '_save_checkpoints_steps': None, '_keep_checkpoint_max': 5, '_keep_checkpoint_every_n_hours': 10000, '_model_dir': '/tmp/tmpn1nrxy1e'}\n",
      "WARNING:tensorflow:From <ipython-input-8-0c5cfbae2040>:4: SKCompat.__init__ (from tensorflow.contrib.learn.python.learn.estimators.estimator) is deprecated and will be removed in a future version.\n",
      "Instructions for updating:\n",
      "Please switch to the Estimator interface.\n",
      "WARNING:tensorflow:From /home/caiolmartinelli/.local/lib/python3.6/site-packages/tensorflow/contrib/learn/python/learn/learn_io/data_feeder.py:102: extract_pandas_labels (from tensorflow.contrib.learn.python.learn.learn_io.pandas_io) is deprecated and will be removed in a future version.\n",
      "Instructions for updating:\n",
      "Please access pandas data directly.\n",
      "WARNING:tensorflow:From /home/caiolmartinelli/.local/lib/python3.6/site-packages/tensorflow/python/framework/op_def_library.py:263: colocate_with (from tensorflow.python.framework.ops) is deprecated and will be removed in a future version.\n",
      "Instructions for updating:\n",
      "Colocations handled automatically by placer.\n",
      "WARNING:tensorflow:From /home/caiolmartinelli/.local/lib/python3.6/site-packages/tensorflow/contrib/layers/python/layers/feature_column.py:1874: to_float (from tensorflow.python.ops.math_ops) is deprecated and will be removed in a future version.\n",
      "Instructions for updating:\n",
      "Use tf.cast instead.\n",
      "WARNING:tensorflow:From /home/caiolmartinelli/.local/lib/python3.6/site-packages/tensorflow/contrib/learn/python/learn/estimators/head.py:677: ModelFnOps.__new__ (from tensorflow.contrib.learn.python.learn.estimators.model_fn) is deprecated and will be removed in a future version.\n",
      "Instructions for updating:\n",
      "When switching to tf.estimator.Estimator, use tf.estimator.EstimatorSpec. You can use the `estimator_spec` method to create an equivalent one.\n",
      "INFO:tensorflow:Create CheckpointSaverHook.\n",
      "INFO:tensorflow:Graph was finalized.\n",
      "INFO:tensorflow:Running local_init_op.\n",
      "INFO:tensorflow:Done running local_init_op.\n",
      "INFO:tensorflow:Saving checkpoints for 0 into /tmp/tmpn1nrxy1e/model.ckpt.\n",
      "INFO:tensorflow:loss = 2.5231485, step = 1\n",
      "INFO:tensorflow:global_step/sec: 293.532\n",
      "INFO:tensorflow:loss = 0.36613837, step = 101 (0.339 sec)\n",
      "INFO:tensorflow:global_step/sec: 381.992\n",
      "INFO:tensorflow:loss = 0.07311041, step = 201 (0.262 sec)\n",
      "INFO:tensorflow:global_step/sec: 371.009\n",
      "INFO:tensorflow:loss = 0.12683904, step = 301 (0.270 sec)\n",
      "INFO:tensorflow:global_step/sec: 418.12\n",
      "INFO:tensorflow:loss = 0.1117953, step = 401 (0.239 sec)\n",
      "INFO:tensorflow:global_step/sec: 387.553\n",
      "INFO:tensorflow:loss = 0.03878065, step = 501 (0.258 sec)\n",
      "INFO:tensorflow:global_step/sec: 337.346\n",
      "INFO:tensorflow:loss = 0.10325055, step = 601 (0.296 sec)\n",
      "INFO:tensorflow:global_step/sec: 363.183\n",
      "INFO:tensorflow:loss = 0.088736884, step = 701 (0.275 sec)\n",
      "INFO:tensorflow:global_step/sec: 377.662\n",
      "INFO:tensorflow:loss = 0.1644563, step = 801 (0.265 sec)\n",
      "INFO:tensorflow:global_step/sec: 341.432\n",
      "INFO:tensorflow:loss = 0.075963974, step = 901 (0.293 sec)\n",
      "INFO:tensorflow:global_step/sec: 376.825\n",
      "INFO:tensorflow:loss = 0.26046678, step = 1001 (0.265 sec)\n",
      "INFO:tensorflow:global_step/sec: 397.88\n",
      "INFO:tensorflow:loss = 0.053325363, step = 1101 (0.252 sec)\n",
      "INFO:tensorflow:global_step/sec: 384.231\n",
      "INFO:tensorflow:loss = 0.063762076, step = 1201 (0.260 sec)\n",
      "INFO:tensorflow:global_step/sec: 343.686\n",
      "INFO:tensorflow:loss = 0.12970805, step = 1301 (0.291 sec)\n",
      "INFO:tensorflow:global_step/sec: 386.339\n",
      "INFO:tensorflow:loss = 0.071088456, step = 1401 (0.259 sec)\n",
      "INFO:tensorflow:global_step/sec: 377.179\n",
      "INFO:tensorflow:loss = 0.01977224, step = 1501 (0.266 sec)\n",
      "INFO:tensorflow:global_step/sec: 371.927\n",
      "INFO:tensorflow:loss = 0.026911521, step = 1601 (0.268 sec)\n",
      "INFO:tensorflow:global_step/sec: 354.424\n",
      "INFO:tensorflow:loss = 0.11302571, step = 1701 (0.282 sec)\n",
      "INFO:tensorflow:global_step/sec: 344.552\n",
      "INFO:tensorflow:loss = 0.11838963, step = 1801 (0.290 sec)\n",
      "INFO:tensorflow:global_step/sec: 381.201\n",
      "INFO:tensorflow:loss = 0.07911311, step = 1901 (0.262 sec)\n",
      "INFO:tensorflow:global_step/sec: 389.515\n",
      "INFO:tensorflow:loss = 0.110505305, step = 2001 (0.257 sec)\n",
      "INFO:tensorflow:global_step/sec: 359.181\n",
      "INFO:tensorflow:loss = 0.044762, step = 2101 (0.279 sec)\n",
      "INFO:tensorflow:global_step/sec: 364.566\n",
      "INFO:tensorflow:loss = 0.011451973, step = 2201 (0.274 sec)\n",
      "INFO:tensorflow:global_step/sec: 359.524\n",
      "INFO:tensorflow:loss = 0.067907974, step = 2301 (0.278 sec)\n",
      "INFO:tensorflow:global_step/sec: 351.71\n",
      "INFO:tensorflow:loss = 0.0172348, step = 2401 (0.284 sec)\n",
      "INFO:tensorflow:global_step/sec: 322.412\n",
      "INFO:tensorflow:loss = 0.038027804, step = 2501 (0.310 sec)\n",
      "INFO:tensorflow:global_step/sec: 388.166\n",
      "INFO:tensorflow:loss = 0.04861403, step = 2601 (0.258 sec)\n",
      "INFO:tensorflow:global_step/sec: 355.434\n",
      "INFO:tensorflow:loss = 0.029475657, step = 2701 (0.281 sec)\n",
      "INFO:tensorflow:global_step/sec: 340.286\n",
      "INFO:tensorflow:loss = 0.0027584154, step = 2801 (0.294 sec)\n",
      "INFO:tensorflow:global_step/sec: 352.031\n",
      "INFO:tensorflow:loss = 0.015995957, step = 2901 (0.285 sec)\n",
      "INFO:tensorflow:global_step/sec: 350.045\n",
      "INFO:tensorflow:loss = 0.076003335, step = 3001 (0.285 sec)\n",
      "INFO:tensorflow:global_step/sec: 329.829\n",
      "INFO:tensorflow:loss = 0.019633098, step = 3101 (0.303 sec)\n",
      "INFO:tensorflow:global_step/sec: 293.766\n",
      "INFO:tensorflow:loss = 0.017708054, step = 3201 (0.341 sec)\n",
      "INFO:tensorflow:global_step/sec: 305.234\n",
      "INFO:tensorflow:loss = 0.028188981, step = 3301 (0.331 sec)\n",
      "INFO:tensorflow:global_step/sec: 298.644\n",
      "INFO:tensorflow:loss = 0.025599455, step = 3401 (0.332 sec)\n",
      "INFO:tensorflow:global_step/sec: 334.311\n",
      "INFO:tensorflow:loss = 0.012849344, step = 3501 (0.299 sec)\n",
      "INFO:tensorflow:global_step/sec: 331.638\n",
      "INFO:tensorflow:loss = 0.010203569, step = 3601 (0.302 sec)\n",
      "INFO:tensorflow:global_step/sec: 360\n",
      "INFO:tensorflow:loss = 0.03386749, step = 3701 (0.278 sec)\n",
      "INFO:tensorflow:global_step/sec: 353.986\n",
      "INFO:tensorflow:loss = 0.058089957, step = 3801 (0.282 sec)\n",
      "INFO:tensorflow:global_step/sec: 282.258\n",
      "INFO:tensorflow:loss = 0.022043297, step = 3901 (0.354 sec)\n",
      "INFO:tensorflow:global_step/sec: 339.686\n",
      "INFO:tensorflow:loss = 0.0104511175, step = 4001 (0.294 sec)\n",
      "INFO:tensorflow:global_step/sec: 301.998\n",
      "INFO:tensorflow:loss = 0.011265292, step = 4101 (0.332 sec)\n",
      "INFO:tensorflow:global_step/sec: 370.752\n",
      "INFO:tensorflow:loss = 0.003740995, step = 4201 (0.270 sec)\n",
      "INFO:tensorflow:global_step/sec: 367.65\n",
      "INFO:tensorflow:loss = 0.051172636, step = 4301 (0.273 sec)\n",
      "INFO:tensorflow:global_step/sec: 354.307\n",
      "INFO:tensorflow:loss = 0.011590567, step = 4401 (0.282 sec)\n",
      "INFO:tensorflow:global_step/sec: 370.961\n",
      "INFO:tensorflow:loss = 0.0028147413, step = 4501 (0.269 sec)\n",
      "INFO:tensorflow:global_step/sec: 377.35\n",
      "INFO:tensorflow:loss = 0.005919582, step = 4601 (0.266 sec)\n",
      "INFO:tensorflow:global_step/sec: 375.087\n",
      "INFO:tensorflow:loss = 0.0058236285, step = 4701 (0.267 sec)\n",
      "INFO:tensorflow:global_step/sec: 348.204\n",
      "INFO:tensorflow:loss = 0.0053368276, step = 4801 (0.286 sec)\n",
      "INFO:tensorflow:global_step/sec: 393.906\n",
      "INFO:tensorflow:loss = 0.026141698, step = 4901 (0.254 sec)\n",
      "INFO:tensorflow:global_step/sec: 387.136\n",
      "INFO:tensorflow:loss = 0.022620179, step = 5001 (0.258 sec)\n",
      "INFO:tensorflow:global_step/sec: 383.299\n",
      "INFO:tensorflow:loss = 0.0103928065, step = 5101 (0.261 sec)\n",
      "INFO:tensorflow:global_step/sec: 346.945\n",
      "INFO:tensorflow:loss = 0.0018175305, step = 5201 (0.289 sec)\n",
      "INFO:tensorflow:global_step/sec: 368.398\n",
      "INFO:tensorflow:loss = 0.008822104, step = 5301 (0.271 sec)\n",
      "INFO:tensorflow:global_step/sec: 371.031\n",
      "INFO:tensorflow:loss = 0.018311527, step = 5401 (0.270 sec)\n",
      "INFO:tensorflow:global_step/sec: 381.959\n",
      "INFO:tensorflow:loss = 0.014639908, step = 5501 (0.262 sec)\n",
      "INFO:tensorflow:global_step/sec: 327.919\n",
      "INFO:tensorflow:loss = 0.0061309105, step = 5601 (0.305 sec)\n",
      "INFO:tensorflow:global_step/sec: 376.231\n",
      "INFO:tensorflow:loss = 0.0017548788, step = 5701 (0.265 sec)\n",
      "INFO:tensorflow:global_step/sec: 366.301\n",
      "INFO:tensorflow:loss = 0.018222619, step = 5801 (0.273 sec)\n",
      "INFO:tensorflow:global_step/sec: 385.675\n",
      "INFO:tensorflow:loss = 0.004936746, step = 5901 (0.259 sec)\n",
      "INFO:tensorflow:global_step/sec: 361.013\n",
      "INFO:tensorflow:loss = 0.0024636383, step = 6001 (0.277 sec)\n",
      "INFO:tensorflow:global_step/sec: 401.271\n",
      "INFO:tensorflow:loss = 0.0101952385, step = 6101 (0.250 sec)\n",
      "INFO:tensorflow:global_step/sec: 357.041\n",
      "INFO:tensorflow:loss = 0.002935682, step = 6201 (0.280 sec)\n",
      "INFO:tensorflow:global_step/sec: 381.96\n",
      "INFO:tensorflow:loss = 0.0049701915, step = 6301 (0.261 sec)\n",
      "INFO:tensorflow:global_step/sec: 370.869\n",
      "INFO:tensorflow:loss = 0.005188823, step = 6401 (0.270 sec)\n",
      "INFO:tensorflow:global_step/sec: 378.252\n",
      "INFO:tensorflow:loss = 0.0016566847, step = 6501 (0.264 sec)\n",
      "INFO:tensorflow:global_step/sec: 354.447\n",
      "INFO:tensorflow:loss = 0.020753045, step = 6601 (0.283 sec)\n",
      "INFO:tensorflow:global_step/sec: 360.119\n",
      "INFO:tensorflow:loss = 0.0065301545, step = 6701 (0.277 sec)\n",
      "INFO:tensorflow:global_step/sec: 378.884\n",
      "INFO:tensorflow:loss = 0.0053443923, step = 6801 (0.265 sec)\n",
      "INFO:tensorflow:global_step/sec: 371.779\n",
      "INFO:tensorflow:loss = 0.0014901003, step = 6901 (0.268 sec)\n",
      "INFO:tensorflow:global_step/sec: 376.593\n",
      "INFO:tensorflow:loss = 0.03976905, step = 7001 (0.266 sec)\n",
      "INFO:tensorflow:global_step/sec: 366.946\n",
      "INFO:tensorflow:loss = 0.026978368, step = 7101 (0.272 sec)\n",
      "INFO:tensorflow:global_step/sec: 384.274\n",
      "INFO:tensorflow:loss = 0.0042772116, step = 7201 (0.261 sec)\n",
      "INFO:tensorflow:global_step/sec: 368.097\n",
      "INFO:tensorflow:loss = 0.0032200543, step = 7301 (0.271 sec)\n",
      "INFO:tensorflow:global_step/sec: 379.927\n",
      "INFO:tensorflow:loss = 0.0029836583, step = 7401 (0.263 sec)\n",
      "INFO:tensorflow:global_step/sec: 363.838\n",
      "INFO:tensorflow:loss = 0.0036198169, step = 7501 (0.275 sec)\n",
      "INFO:tensorflow:global_step/sec: 375.57\n",
      "INFO:tensorflow:loss = 0.005225612, step = 7601 (0.266 sec)\n",
      "INFO:tensorflow:global_step/sec: 370.669\n",
      "INFO:tensorflow:loss = 0.0122557115, step = 7701 (0.270 sec)\n",
      "INFO:tensorflow:global_step/sec: 331.675\n",
      "INFO:tensorflow:loss = 0.0016382954, step = 7801 (0.301 sec)\n",
      "INFO:tensorflow:global_step/sec: 363.161\n",
      "INFO:tensorflow:loss = 0.0071338355, step = 7901 (0.275 sec)\n",
      "INFO:tensorflow:global_step/sec: 399.691\n",
      "INFO:tensorflow:loss = 0.0036401772, step = 8001 (0.251 sec)\n",
      "INFO:tensorflow:global_step/sec: 374.051\n",
      "INFO:tensorflow:loss = 0.0029072524, step = 8101 (0.267 sec)\n",
      "INFO:tensorflow:global_step/sec: 373.18\n",
      "INFO:tensorflow:loss = 0.02333137, step = 8201 (0.268 sec)\n",
      "INFO:tensorflow:global_step/sec: 372.759\n",
      "INFO:tensorflow:loss = 0.003871193, step = 8301 (0.269 sec)\n",
      "INFO:tensorflow:global_step/sec: 369.496\n",
      "INFO:tensorflow:loss = 0.0056948583, step = 8401 (0.270 sec)\n",
      "INFO:tensorflow:global_step/sec: 354.409\n",
      "INFO:tensorflow:loss = 0.0011124625, step = 8501 (0.282 sec)\n",
      "INFO:tensorflow:global_step/sec: 380.922\n",
      "INFO:tensorflow:loss = 0.0019485219, step = 8601 (0.263 sec)\n",
      "INFO:tensorflow:global_step/sec: 366.586\n",
      "INFO:tensorflow:loss = 0.0038103901, step = 8701 (0.273 sec)\n",
      "INFO:tensorflow:global_step/sec: 372.334\n",
      "INFO:tensorflow:loss = 0.02155577, step = 8801 (0.268 sec)\n",
      "INFO:tensorflow:global_step/sec: 365.685\n",
      "INFO:tensorflow:loss = 0.0072210347, step = 8901 (0.274 sec)\n",
      "INFO:tensorflow:global_step/sec: 389.87\n",
      "INFO:tensorflow:loss = 0.0045070504, step = 9001 (0.256 sec)\n",
      "INFO:tensorflow:global_step/sec: 379.169\n",
      "INFO:tensorflow:loss = 0.009949462, step = 9101 (0.264 sec)\n",
      "INFO:tensorflow:global_step/sec: 361.367\n",
      "INFO:tensorflow:loss = 0.0020510897, step = 9201 (0.277 sec)\n",
      "INFO:tensorflow:global_step/sec: 370.615\n",
      "INFO:tensorflow:loss = 0.004054753, step = 9301 (0.270 sec)\n",
      "INFO:tensorflow:global_step/sec: 389.356\n",
      "INFO:tensorflow:loss = 0.003989709, step = 9401 (0.257 sec)\n",
      "INFO:tensorflow:global_step/sec: 376.74\n",
      "INFO:tensorflow:loss = 0.009389876, step = 9501 (0.265 sec)\n",
      "INFO:tensorflow:global_step/sec: 355.037\n",
      "INFO:tensorflow:loss = 0.0017719498, step = 9601 (0.282 sec)\n",
      "INFO:tensorflow:global_step/sec: 378.475\n",
      "INFO:tensorflow:loss = 0.0029885184, step = 9701 (0.264 sec)\n",
      "INFO:tensorflow:global_step/sec: 372.269\n",
      "INFO:tensorflow:loss = 0.0020102654, step = 9801 (0.269 sec)\n",
      "INFO:tensorflow:global_step/sec: 394.319\n",
      "INFO:tensorflow:loss = 0.0017700967, step = 9901 (0.254 sec)\n",
      "INFO:tensorflow:global_step/sec: 362.704\n",
      "INFO:tensorflow:loss = 0.0068761883, step = 10001 (0.276 sec)\n",
      "INFO:tensorflow:global_step/sec: 376.593\n",
      "INFO:tensorflow:loss = 0.002881036, step = 10101 (0.265 sec)\n",
      "INFO:tensorflow:global_step/sec: 370.314\n",
      "INFO:tensorflow:loss = 0.014848742, step = 10201 (0.270 sec)\n",
      "INFO:tensorflow:global_step/sec: 381.271\n",
      "INFO:tensorflow:loss = 0.0022959723, step = 10301 (0.263 sec)\n",
      "INFO:tensorflow:global_step/sec: 357.735\n",
      "INFO:tensorflow:loss = 0.0022559937, step = 10401 (0.279 sec)\n",
      "INFO:tensorflow:global_step/sec: 382.095\n",
      "INFO:tensorflow:loss = 0.0012593467, step = 10501 (0.262 sec)\n",
      "INFO:tensorflow:global_step/sec: 372.087\n",
      "INFO:tensorflow:loss = 0.0017551307, step = 10601 (0.269 sec)\n",
      "INFO:tensorflow:global_step/sec: 370.358\n",
      "INFO:tensorflow:loss = 0.0004954774, step = 10701 (0.270 sec)\n",
      "INFO:tensorflow:global_step/sec: 382.083\n",
      "INFO:tensorflow:loss = 0.0028631992, step = 10801 (0.262 sec)\n",
      "INFO:tensorflow:global_step/sec: 385.654\n",
      "INFO:tensorflow:loss = 0.0003798793, step = 10901 (0.260 sec)\n",
      "INFO:tensorflow:global_step/sec: 374.862\n",
      "INFO:tensorflow:loss = 0.0071043135, step = 11001 (0.266 sec)\n",
      "INFO:tensorflow:global_step/sec: 372.8\n",
      "INFO:tensorflow:loss = 0.0029090503, step = 11101 (0.268 sec)\n",
      "INFO:tensorflow:global_step/sec: 369.483\n",
      "INFO:tensorflow:loss = 0.001394572, step = 11201 (0.271 sec)\n",
      "INFO:tensorflow:global_step/sec: 387.823\n",
      "INFO:tensorflow:loss = 0.0025519482, step = 11301 (0.258 sec)\n",
      "INFO:tensorflow:global_step/sec: 377.575\n",
      "INFO:tensorflow:loss = 0.009163434, step = 11401 (0.265 sec)\n",
      "INFO:tensorflow:global_step/sec: 352.385\n",
      "INFO:tensorflow:loss = 0.00015187141, step = 11501 (0.284 sec)\n",
      "INFO:tensorflow:global_step/sec: 387.993\n",
      "INFO:tensorflow:loss = 0.0013239351, step = 11601 (0.258 sec)\n",
      "INFO:tensorflow:global_step/sec: 392.993\n",
      "INFO:tensorflow:loss = 0.0006113339, step = 11701 (0.254 sec)\n",
      "INFO:tensorflow:global_step/sec: 380.929\n",
      "INFO:tensorflow:loss = 0.00032207507, step = 11801 (0.263 sec)\n",
      "INFO:tensorflow:global_step/sec: 355.07\n",
      "INFO:tensorflow:loss = 0.0017617114, step = 11901 (0.281 sec)\n",
      "INFO:tensorflow:global_step/sec: 380.641\n",
      "INFO:tensorflow:loss = 0.0028465993, step = 12001 (0.263 sec)\n",
      "INFO:tensorflow:global_step/sec: 392.639\n",
      "INFO:tensorflow:loss = 0.0011491732, step = 12101 (0.255 sec)\n",
      "INFO:tensorflow:global_step/sec: 343.444\n",
      "INFO:tensorflow:loss = 0.0024902192, step = 12201 (0.291 sec)\n",
      "INFO:tensorflow:global_step/sec: 360.23\n",
      "INFO:tensorflow:loss = 0.0011974316, step = 12301 (0.277 sec)\n",
      "INFO:tensorflow:global_step/sec: 387\n",
      "INFO:tensorflow:loss = 0.0008968804, step = 12401 (0.259 sec)\n",
      "INFO:tensorflow:global_step/sec: 373.72\n",
      "INFO:tensorflow:loss = 0.0006155907, step = 12501 (0.267 sec)\n",
      "INFO:tensorflow:global_step/sec: 388.159\n",
      "INFO:tensorflow:loss = 0.0017453933, step = 12601 (0.258 sec)\n",
      "INFO:tensorflow:global_step/sec: 368.983\n",
      "INFO:tensorflow:loss = 0.00020123507, step = 12701 (0.272 sec)\n",
      "INFO:tensorflow:global_step/sec: 383.408\n",
      "INFO:tensorflow:loss = 0.0011824421, step = 12801 (0.261 sec)\n",
      "INFO:tensorflow:global_step/sec: 376.121\n",
      "INFO:tensorflow:loss = 0.0010470869, step = 12901 (0.265 sec)\n",
      "INFO:tensorflow:global_step/sec: 372.478\n",
      "INFO:tensorflow:loss = 0.0010381868, step = 13001 (0.268 sec)\n",
      "INFO:tensorflow:global_step/sec: 369.42\n",
      "INFO:tensorflow:loss = 0.00039351374, step = 13101 (0.271 sec)\n",
      "INFO:tensorflow:global_step/sec: 355.467\n",
      "INFO:tensorflow:loss = 0.0006202117, step = 13201 (0.283 sec)\n",
      "INFO:tensorflow:global_step/sec: 371.497\n",
      "INFO:tensorflow:loss = 0.0031436733, step = 13301 (0.268 sec)\n",
      "INFO:tensorflow:global_step/sec: 374.521\n",
      "INFO:tensorflow:loss = 0.0008857905, step = 13401 (0.266 sec)\n",
      "INFO:tensorflow:global_step/sec: 371.872\n",
      "INFO:tensorflow:loss = 0.00026798446, step = 13501 (0.270 sec)\n",
      "INFO:tensorflow:global_step/sec: 388.761\n",
      "INFO:tensorflow:loss = 0.00025178504, step = 13601 (0.257 sec)\n",
      "INFO:tensorflow:global_step/sec: 355.137\n",
      "INFO:tensorflow:loss = 0.0006685003, step = 13701 (0.281 sec)\n",
      "INFO:tensorflow:global_step/sec: 380.65\n",
      "INFO:tensorflow:loss = 0.0012955588, step = 13801 (0.263 sec)\n",
      "INFO:tensorflow:global_step/sec: 375.272\n",
      "INFO:tensorflow:loss = 0.00038119263, step = 13901 (0.266 sec)\n",
      "INFO:tensorflow:global_step/sec: 385.044\n",
      "INFO:tensorflow:loss = 9.8757686e-05, step = 14001 (0.260 sec)\n",
      "INFO:tensorflow:global_step/sec: 365.146\n",
      "INFO:tensorflow:loss = 0.0007793905, step = 14101 (0.274 sec)\n",
      "INFO:tensorflow:global_step/sec: 375.96\n",
      "INFO:tensorflow:loss = 0.00055770023, step = 14201 (0.266 sec)\n",
      "INFO:tensorflow:global_step/sec: 382.521\n",
      "INFO:tensorflow:loss = 0.0026648967, step = 14301 (0.261 sec)\n",
      "INFO:tensorflow:global_step/sec: 383.477\n",
      "INFO:tensorflow:loss = 0.0011553848, step = 14401 (0.262 sec)\n",
      "INFO:tensorflow:global_step/sec: 367.001\n",
      "INFO:tensorflow:loss = 0.00062059285, step = 14501 (0.272 sec)\n",
      "INFO:tensorflow:global_step/sec: 374.004\n",
      "INFO:tensorflow:loss = 0.00091627036, step = 14601 (0.267 sec)\n",
      "INFO:tensorflow:global_step/sec: 384.788\n",
      "INFO:tensorflow:loss = 0.0015111029, step = 14701 (0.261 sec)\n",
      "INFO:tensorflow:global_step/sec: 373.549\n",
      "INFO:tensorflow:loss = 0.0012308111, step = 14801 (0.278 sec)\n",
      "INFO:tensorflow:global_step/sec: 360.683\n",
      "INFO:tensorflow:loss = 0.0014815277, step = 14901 (0.267 sec)\n",
      "INFO:tensorflow:global_step/sec: 364.838\n",
      "INFO:tensorflow:loss = 0.0015177672, step = 15001 (0.274 sec)\n",
      "INFO:tensorflow:global_step/sec: 381.28\n",
      "INFO:tensorflow:loss = 0.0005858064, step = 15101 (0.262 sec)\n",
      "INFO:tensorflow:global_step/sec: 357.758\n",
      "INFO:tensorflow:loss = 0.0012358184, step = 15201 (0.280 sec)\n",
      "INFO:tensorflow:global_step/sec: 380.966\n",
      "INFO:tensorflow:loss = 0.0014492141, step = 15301 (0.262 sec)\n",
      "INFO:tensorflow:global_step/sec: 376.344\n",
      "INFO:tensorflow:loss = 0.0018397518, step = 15401 (0.265 sec)\n",
      "INFO:tensorflow:global_step/sec: 384.704\n",
      "INFO:tensorflow:loss = 0.0005715116, step = 15501 (0.260 sec)\n",
      "INFO:tensorflow:global_step/sec: 352.233\n",
      "INFO:tensorflow:loss = 0.00035860136, step = 15601 (0.285 sec)\n",
      "INFO:tensorflow:global_step/sec: 395.231\n",
      "INFO:tensorflow:loss = 0.00022194716, step = 15701 (0.252 sec)\n",
      "INFO:tensorflow:global_step/sec: 355.795\n",
      "INFO:tensorflow:loss = 0.0005637863, step = 15801 (0.281 sec)\n",
      "INFO:tensorflow:global_step/sec: 381.948\n",
      "INFO:tensorflow:loss = 0.0009244638, step = 15901 (0.262 sec)\n",
      "INFO:tensorflow:global_step/sec: 348.929\n",
      "INFO:tensorflow:loss = 0.0021175903, step = 16001 (0.287 sec)\n",
      "INFO:tensorflow:global_step/sec: 396.743\n",
      "INFO:tensorflow:loss = 0.00012220212, step = 16101 (0.252 sec)\n",
      "INFO:tensorflow:global_step/sec: 397.748\n",
      "INFO:tensorflow:loss = 0.0009496004, step = 16201 (0.251 sec)\n",
      "INFO:tensorflow:global_step/sec: 379.976\n",
      "INFO:tensorflow:loss = 0.0001745949, step = 16301 (0.264 sec)\n",
      "INFO:tensorflow:global_step/sec: 362.679\n",
      "INFO:tensorflow:loss = 0.00092105166, step = 16401 (0.276 sec)\n",
      "INFO:tensorflow:global_step/sec: 391.867\n",
      "INFO:tensorflow:loss = 0.00077396666, step = 16501 (0.255 sec)\n",
      "INFO:tensorflow:global_step/sec: 393.105\n",
      "INFO:tensorflow:loss = 0.00023832727, step = 16601 (0.254 sec)\n",
      "INFO:tensorflow:global_step/sec: 369.539\n",
      "INFO:tensorflow:loss = 0.00033133262, step = 16701 (0.271 sec)\n",
      "INFO:tensorflow:global_step/sec: 372.375\n",
      "INFO:tensorflow:loss = 0.001487446, step = 16801 (0.269 sec)\n",
      "INFO:tensorflow:global_step/sec: 376.623\n",
      "INFO:tensorflow:loss = 0.0023173383, step = 16901 (0.265 sec)\n",
      "INFO:tensorflow:global_step/sec: 368.415\n",
      "INFO:tensorflow:loss = 0.0002646561, step = 17001 (0.271 sec)\n",
      "INFO:tensorflow:global_step/sec: 387.719\n",
      "INFO:tensorflow:loss = 0.0010545744, step = 17101 (0.258 sec)\n",
      "INFO:tensorflow:global_step/sec: 366.239\n",
      "INFO:tensorflow:loss = 0.00029725375, step = 17201 (0.273 sec)\n",
      "INFO:tensorflow:global_step/sec: 378.338\n",
      "INFO:tensorflow:loss = 0.00079573586, step = 17301 (0.264 sec)\n",
      "INFO:tensorflow:global_step/sec: 381.48\n",
      "INFO:tensorflow:loss = 7.018287e-05, step = 17401 (0.263 sec)\n",
      "INFO:tensorflow:global_step/sec: 364.769\n",
      "INFO:tensorflow:loss = 0.00019425046, step = 17501 (0.274 sec)\n",
      "INFO:tensorflow:global_step/sec: 350.392\n",
      "INFO:tensorflow:loss = 0.00094243884, step = 17601 (0.285 sec)\n",
      "INFO:tensorflow:global_step/sec: 266.262\n",
      "INFO:tensorflow:loss = 0.00087068335, step = 17701 (0.375 sec)\n",
      "INFO:tensorflow:global_step/sec: 366.576\n",
      "INFO:tensorflow:loss = 0.0007258735, step = 17801 (0.273 sec)\n",
      "INFO:tensorflow:global_step/sec: 383.679\n",
      "INFO:tensorflow:loss = 9.0611466e-05, step = 17901 (0.261 sec)\n",
      "INFO:tensorflow:global_step/sec: 386.737\n",
      "INFO:tensorflow:loss = 0.0005963224, step = 18001 (0.259 sec)\n",
      "INFO:tensorflow:global_step/sec: 373.143\n",
      "INFO:tensorflow:loss = 0.0010235985, step = 18101 (0.269 sec)\n",
      "INFO:tensorflow:global_step/sec: 372.662\n",
      "INFO:tensorflow:loss = 0.0009580497, step = 18201 (0.268 sec)\n",
      "INFO:tensorflow:global_step/sec: 371.481\n",
      "INFO:tensorflow:loss = 2.6149797e-05, step = 18301 (0.269 sec)\n",
      "INFO:tensorflow:global_step/sec: 401.11\n",
      "INFO:tensorflow:loss = 0.0013053182, step = 18401 (0.249 sec)\n",
      "INFO:tensorflow:global_step/sec: 377.325\n",
      "INFO:tensorflow:loss = 0.000978362, step = 18501 (0.266 sec)\n",
      "INFO:tensorflow:global_step/sec: 368.151\n",
      "INFO:tensorflow:loss = 0.00020514331, step = 18601 (0.271 sec)\n",
      "INFO:tensorflow:global_step/sec: 370.173\n",
      "INFO:tensorflow:loss = 0.0014435378, step = 18701 (0.270 sec)\n",
      "INFO:tensorflow:global_step/sec: 385.855\n",
      "INFO:tensorflow:loss = 0.0005530247, step = 18801 (0.259 sec)\n",
      "INFO:tensorflow:global_step/sec: 358.844\n",
      "INFO:tensorflow:loss = 0.00024290495, step = 18901 (0.278 sec)\n",
      "INFO:tensorflow:global_step/sec: 371.61\n",
      "INFO:tensorflow:loss = 0.0034009945, step = 19001 (0.269 sec)\n",
      "INFO:tensorflow:global_step/sec: 382.627\n",
      "INFO:tensorflow:loss = 0.000789377, step = 19101 (0.262 sec)\n",
      "INFO:tensorflow:global_step/sec: 374.033\n",
      "INFO:tensorflow:loss = 0.0007266258, step = 19201 (0.267 sec)\n",
      "INFO:tensorflow:global_step/sec: 389.058\n",
      "INFO:tensorflow:loss = 0.00039355416, step = 19301 (0.257 sec)\n",
      "INFO:tensorflow:global_step/sec: 368.929\n",
      "INFO:tensorflow:loss = 0.00027842008, step = 19401 (0.271 sec)\n",
      "INFO:tensorflow:global_step/sec: 375.396\n",
      "INFO:tensorflow:loss = 0.0014133385, step = 19501 (0.266 sec)\n",
      "INFO:tensorflow:global_step/sec: 372.158\n",
      "INFO:tensorflow:loss = 0.0008050011, step = 19601 (0.269 sec)\n",
      "INFO:tensorflow:global_step/sec: 379.618\n",
      "INFO:tensorflow:loss = 0.0003473773, step = 19701 (0.263 sec)\n",
      "INFO:tensorflow:global_step/sec: 359.409\n",
      "INFO:tensorflow:loss = 0.0005571822, step = 19801 (0.279 sec)\n",
      "INFO:tensorflow:global_step/sec: 387.148\n",
      "INFO:tensorflow:loss = 0.0007628868, step = 19901 (0.258 sec)\n",
      "INFO:tensorflow:global_step/sec: 376.203\n",
      "INFO:tensorflow:loss = 0.0004982104, step = 20001 (0.267 sec)\n",
      "INFO:tensorflow:global_step/sec: 366.922\n",
      "INFO:tensorflow:loss = 0.00020396244, step = 20101 (0.272 sec)\n",
      "INFO:tensorflow:global_step/sec: 384.474\n",
      "INFO:tensorflow:loss = 0.00061779557, step = 20201 (0.260 sec)\n",
      "INFO:tensorflow:global_step/sec: 388.08\n",
      "INFO:tensorflow:loss = 0.001001692, step = 20301 (0.258 sec)\n",
      "INFO:tensorflow:global_step/sec: 376.976\n",
      "INFO:tensorflow:loss = 0.00010261326, step = 20401 (0.265 sec)\n",
      "INFO:tensorflow:global_step/sec: 385.169\n",
      "INFO:tensorflow:loss = 0.000862897, step = 20501 (0.260 sec)\n",
      "INFO:tensorflow:global_step/sec: 369.428\n",
      "INFO:tensorflow:loss = 0.0005571364, step = 20601 (0.271 sec)\n",
      "INFO:tensorflow:global_step/sec: 383.688\n",
      "INFO:tensorflow:loss = 0.0004868263, step = 20701 (0.260 sec)\n",
      "INFO:tensorflow:global_step/sec: 358.84\n",
      "INFO:tensorflow:loss = 0.00030551816, step = 20801 (0.279 sec)\n",
      "INFO:tensorflow:global_step/sec: 386.737\n",
      "INFO:tensorflow:loss = 0.0013639374, step = 20901 (0.259 sec)\n",
      "INFO:tensorflow:global_step/sec: 362.268\n",
      "INFO:tensorflow:loss = 0.001079798, step = 21001 (0.276 sec)\n",
      "INFO:tensorflow:global_step/sec: 382.437\n",
      "INFO:tensorflow:loss = 0.000592326, step = 21101 (0.261 sec)\n",
      "INFO:tensorflow:global_step/sec: 361.033\n",
      "INFO:tensorflow:loss = 0.0010783091, step = 21201 (0.277 sec)\n",
      "INFO:tensorflow:global_step/sec: 401.464\n",
      "INFO:tensorflow:loss = 5.1550454e-05, step = 21301 (0.249 sec)\n",
      "INFO:tensorflow:global_step/sec: 375.895\n",
      "INFO:tensorflow:loss = 0.0004822788, step = 21401 (0.266 sec)\n",
      "INFO:tensorflow:global_step/sec: 379.143\n",
      "INFO:tensorflow:loss = 0.0005721684, step = 21501 (0.264 sec)\n",
      "INFO:tensorflow:global_step/sec: 360.093\n",
      "INFO:tensorflow:loss = 0.0010836043, step = 21601 (0.278 sec)\n",
      "INFO:tensorflow:global_step/sec: 377.529\n",
      "INFO:tensorflow:loss = 0.0015963818, step = 21701 (0.265 sec)\n",
      "INFO:tensorflow:global_step/sec: 377.894\n",
      "INFO:tensorflow:loss = 0.0009531501, step = 21801 (0.265 sec)\n",
      "INFO:tensorflow:global_step/sec: 359.504\n",
      "INFO:tensorflow:loss = 0.000364462, step = 21901 (0.279 sec)\n",
      "INFO:tensorflow:global_step/sec: 371.524\n",
      "INFO:tensorflow:loss = 0.00051825814, step = 22001 (0.268 sec)\n",
      "INFO:tensorflow:global_step/sec: 369.375\n",
      "INFO:tensorflow:loss = 0.0006479246, step = 22101 (0.272 sec)\n",
      "INFO:tensorflow:global_step/sec: 384.765\n",
      "INFO:tensorflow:loss = 0.00029101863, step = 22201 (0.259 sec)\n",
      "INFO:tensorflow:global_step/sec: 357.112\n",
      "INFO:tensorflow:loss = 0.00029837686, step = 22301 (0.280 sec)\n",
      "INFO:tensorflow:global_step/sec: 384.337\n",
      "INFO:tensorflow:loss = 0.00047591355, step = 22401 (0.260 sec)\n",
      "INFO:tensorflow:global_step/sec: 373.531\n",
      "INFO:tensorflow:loss = 0.0005237954, step = 22501 (0.268 sec)\n",
      "INFO:tensorflow:global_step/sec: 380.06\n",
      "INFO:tensorflow:loss = 0.00012782292, step = 22601 (0.263 sec)\n",
      "INFO:tensorflow:global_step/sec: 360.14\n",
      "INFO:tensorflow:loss = 0.0009808247, step = 22701 (0.278 sec)\n",
      "INFO:tensorflow:global_step/sec: 373.529\n",
      "INFO:tensorflow:loss = 0.00043209686, step = 22801 (0.267 sec)\n",
      "INFO:tensorflow:global_step/sec: 383.093\n",
      "INFO:tensorflow:loss = 0.0012596385, step = 22901 (0.261 sec)\n",
      "INFO:tensorflow:global_step/sec: 380.03\n",
      "INFO:tensorflow:loss = 0.00019057337, step = 23001 (0.264 sec)\n",
      "INFO:tensorflow:global_step/sec: 357.756\n",
      "INFO:tensorflow:loss = 0.00055458525, step = 23101 (0.279 sec)\n",
      "INFO:tensorflow:global_step/sec: 381.705\n",
      "INFO:tensorflow:loss = 0.00035809138, step = 23201 (0.261 sec)\n",
      "INFO:tensorflow:global_step/sec: 368.896\n",
      "INFO:tensorflow:loss = 0.0003568545, step = 23301 (0.271 sec)\n",
      "INFO:tensorflow:global_step/sec: 368.411\n",
      "INFO:tensorflow:loss = 8.901595e-05, step = 23401 (0.272 sec)\n",
      "INFO:tensorflow:global_step/sec: 371.825\n",
      "INFO:tensorflow:loss = 9.166191e-05, step = 23501 (0.269 sec)\n",
      "INFO:tensorflow:global_step/sec: 379.027\n",
      "INFO:tensorflow:loss = 0.00022567119, step = 23601 (0.264 sec)\n",
      "INFO:tensorflow:global_step/sec: 369.26\n",
      "INFO:tensorflow:loss = 0.0001286112, step = 23701 (0.270 sec)\n",
      "INFO:tensorflow:global_step/sec: 389.354\n",
      "INFO:tensorflow:loss = 0.0002847516, step = 23801 (0.257 sec)\n",
      "INFO:tensorflow:global_step/sec: 373.225\n",
      "INFO:tensorflow:loss = 0.00093079964, step = 23901 (0.268 sec)\n",
      "INFO:tensorflow:global_step/sec: 380.631\n",
      "INFO:tensorflow:loss = 0.00017453093, step = 24001 (0.263 sec)\n",
      "INFO:tensorflow:global_step/sec: 372.705\n",
      "INFO:tensorflow:loss = 0.0006740255, step = 24101 (0.268 sec)\n",
      "INFO:tensorflow:global_step/sec: 369.262\n",
      "INFO:tensorflow:loss = 0.0006354989, step = 24201 (0.271 sec)\n",
      "INFO:tensorflow:global_step/sec: 346.043\n",
      "INFO:tensorflow:loss = 0.0002088055, step = 24301 (0.290 sec)\n",
      "INFO:tensorflow:global_step/sec: 322.299\n",
      "INFO:tensorflow:loss = 0.00027824196, step = 24401 (0.310 sec)\n",
      "INFO:tensorflow:global_step/sec: 370.917\n",
      "INFO:tensorflow:loss = 0.00026888898, step = 24501 (0.270 sec)\n",
      "INFO:tensorflow:global_step/sec: 389.377\n",
      "INFO:tensorflow:loss = 0.0004184261, step = 24601 (0.257 sec)\n",
      "INFO:tensorflow:global_step/sec: 396.968\n",
      "INFO:tensorflow:loss = 0.00092163496, step = 24701 (0.252 sec)\n",
      "INFO:tensorflow:global_step/sec: 371.187\n",
      "INFO:tensorflow:loss = 0.00042793536, step = 24801 (0.270 sec)\n",
      "INFO:tensorflow:global_step/sec: 387.091\n",
      "INFO:tensorflow:loss = 0.00015067367, step = 24901 (0.258 sec)\n",
      "INFO:tensorflow:global_step/sec: 375.275\n",
      "INFO:tensorflow:loss = 0.00010142699, step = 25001 (0.267 sec)\n",
      "INFO:tensorflow:global_step/sec: 391.04\n",
      "INFO:tensorflow:loss = 0.0004411925, step = 25101 (0.255 sec)\n",
      "INFO:tensorflow:global_step/sec: 370.49\n",
      "INFO:tensorflow:loss = 0.001086377, step = 25201 (0.270 sec)\n",
      "INFO:tensorflow:global_step/sec: 369.989\n",
      "INFO:tensorflow:loss = 0.00035044807, step = 25301 (0.270 sec)\n",
      "INFO:tensorflow:global_step/sec: 371.596\n",
      "INFO:tensorflow:loss = 0.00083844544, step = 25401 (0.270 sec)\n",
      "INFO:tensorflow:global_step/sec: 378.942\n",
      "INFO:tensorflow:loss = 0.00013931187, step = 25501 (0.264 sec)\n",
      "INFO:tensorflow:global_step/sec: 371.291\n",
      "INFO:tensorflow:loss = 0.00039232473, step = 25601 (0.269 sec)\n",
      "INFO:tensorflow:global_step/sec: 365.522\n",
      "INFO:tensorflow:loss = 0.00030997838, step = 25701 (0.274 sec)\n",
      "INFO:tensorflow:global_step/sec: 370.314\n",
      "INFO:tensorflow:loss = 0.000588314, step = 25801 (0.269 sec)\n",
      "INFO:tensorflow:global_step/sec: 382.125\n",
      "INFO:tensorflow:loss = 0.0015026304, step = 25901 (0.262 sec)\n",
      "INFO:tensorflow:global_step/sec: 364.546\n",
      "INFO:tensorflow:loss = 0.00055814156, step = 26001 (0.274 sec)\n",
      "INFO:tensorflow:global_step/sec: 381.359\n",
      "INFO:tensorflow:loss = 0.00014197029, step = 26101 (0.262 sec)\n",
      "INFO:tensorflow:global_step/sec: 369.174\n",
      "INFO:tensorflow:loss = 0.00016963923, step = 26201 (0.271 sec)\n",
      "INFO:tensorflow:global_step/sec: 383.447\n",
      "INFO:tensorflow:loss = 0.00033290018, step = 26301 (0.262 sec)\n",
      "INFO:tensorflow:global_step/sec: 351.24\n",
      "INFO:tensorflow:loss = 0.0008826186, step = 26401 (0.284 sec)\n",
      "INFO:tensorflow:global_step/sec: 391.042\n",
      "INFO:tensorflow:loss = 0.0013100001, step = 26501 (0.256 sec)\n",
      "INFO:tensorflow:global_step/sec: 374.572\n",
      "INFO:tensorflow:loss = 0.00025671345, step = 26601 (0.267 sec)\n",
      "INFO:tensorflow:global_step/sec: 378.948\n",
      "INFO:tensorflow:loss = 0.00028289744, step = 26701 (0.264 sec)\n",
      "INFO:tensorflow:global_step/sec: 357.065\n",
      "INFO:tensorflow:loss = 6.984761e-05, step = 26801 (0.280 sec)\n",
      "INFO:tensorflow:global_step/sec: 369.954\n",
      "INFO:tensorflow:loss = 0.00044228433, step = 26901 (0.270 sec)\n",
      "INFO:tensorflow:global_step/sec: 373.157\n",
      "INFO:tensorflow:loss = 0.00038111917, step = 27001 (0.269 sec)\n",
      "INFO:tensorflow:global_step/sec: 360.755\n",
      "INFO:tensorflow:loss = 1.9417923e-05, step = 27101 (0.277 sec)\n",
      "INFO:tensorflow:global_step/sec: 378.363\n",
      "INFO:tensorflow:loss = 0.0003793774, step = 27201 (0.264 sec)\n",
      "INFO:tensorflow:global_step/sec: 371.497\n",
      "INFO:tensorflow:loss = 0.0003637314, step = 27301 (0.269 sec)\n",
      "INFO:tensorflow:global_step/sec: 399.534\n",
      "INFO:tensorflow:loss = 0.00037287906, step = 27401 (0.251 sec)\n",
      "INFO:tensorflow:global_step/sec: 365.586\n",
      "INFO:tensorflow:loss = 0.0010128919, step = 27501 (0.273 sec)\n",
      "INFO:tensorflow:global_step/sec: 379.316\n",
      "INFO:tensorflow:loss = 0.00027313604, step = 27601 (0.263 sec)\n",
      "INFO:tensorflow:global_step/sec: 375.276\n",
      "INFO:tensorflow:loss = 0.00074240734, step = 27701 (0.267 sec)\n",
      "INFO:tensorflow:global_step/sec: 408.332\n",
      "INFO:tensorflow:loss = 0.00032579358, step = 27801 (0.245 sec)\n",
      "INFO:tensorflow:global_step/sec: 357.331\n",
      "INFO:tensorflow:loss = 0.00041431445, step = 27901 (0.280 sec)\n",
      "INFO:tensorflow:global_step/sec: 382.23\n",
      "INFO:tensorflow:loss = 0.00024342624, step = 28001 (0.262 sec)\n",
      "INFO:tensorflow:global_step/sec: 368.539\n",
      "INFO:tensorflow:loss = 0.0016037407, step = 28101 (0.272 sec)\n",
      "INFO:tensorflow:global_step/sec: 383.32\n",
      "INFO:tensorflow:loss = 0.0003449937, step = 28201 (0.261 sec)\n",
      "INFO:tensorflow:global_step/sec: 362.686\n",
      "INFO:tensorflow:loss = 0.0008871161, step = 28301 (0.275 sec)\n",
      "INFO:tensorflow:global_step/sec: 378.501\n",
      "INFO:tensorflow:loss = 0.00043499004, step = 28401 (0.265 sec)\n",
      "INFO:tensorflow:global_step/sec: 375.384\n",
      "INFO:tensorflow:loss = 0.00036293096, step = 28501 (0.266 sec)\n",
      "INFO:tensorflow:global_step/sec: 380.337\n",
      "INFO:tensorflow:loss = 0.0017587966, step = 28601 (0.263 sec)\n",
      "INFO:tensorflow:global_step/sec: 360.317\n",
      "INFO:tensorflow:loss = 0.0001624751, step = 28701 (0.277 sec)\n",
      "INFO:tensorflow:global_step/sec: 380.45\n",
      "INFO:tensorflow:loss = 0.0001946053, step = 28801 (0.264 sec)\n",
      "INFO:tensorflow:global_step/sec: 378.785\n",
      "INFO:tensorflow:loss = 0.00075842236, step = 28901 (0.263 sec)\n",
      "INFO:tensorflow:global_step/sec: 366.605\n",
      "INFO:tensorflow:loss = 1.3242845e-05, step = 29001 (0.273 sec)\n",
      "INFO:tensorflow:global_step/sec: 301.016\n",
      "INFO:tensorflow:loss = 0.0004622976, step = 29101 (0.332 sec)\n",
      "INFO:tensorflow:global_step/sec: 372.69\n",
      "INFO:tensorflow:loss = 0.00087675557, step = 29201 (0.269 sec)\n",
      "INFO:tensorflow:global_step/sec: 378.299\n",
      "INFO:tensorflow:loss = 0.00022524495, step = 29301 (0.263 sec)\n",
      "INFO:tensorflow:global_step/sec: 355.43\n",
      "INFO:tensorflow:loss = 2.382458e-05, step = 29401 (0.282 sec)\n",
      "INFO:tensorflow:global_step/sec: 374.917\n",
      "INFO:tensorflow:loss = 0.0007871546, step = 29501 (0.267 sec)\n",
      "INFO:tensorflow:global_step/sec: 390.527\n",
      "INFO:tensorflow:loss = 0.0003232839, step = 29601 (0.255 sec)\n",
      "INFO:tensorflow:global_step/sec: 378.49\n",
      "INFO:tensorflow:loss = 0.0006193095, step = 29701 (0.265 sec)\n",
      "INFO:tensorflow:global_step/sec: 359.776\n",
      "INFO:tensorflow:loss = 7.887168e-05, step = 29801 (0.277 sec)\n",
      "INFO:tensorflow:global_step/sec: 380.428\n",
      "INFO:tensorflow:loss = 0.00050891103, step = 29901 (0.263 sec)\n",
      "INFO:tensorflow:global_step/sec: 370.929\n",
      "INFO:tensorflow:loss = 0.0002106421, step = 30001 (0.270 sec)\n",
      "INFO:tensorflow:global_step/sec: 364.194\n",
      "INFO:tensorflow:loss = 0.00019357886, step = 30101 (0.275 sec)\n",
      "INFO:tensorflow:global_step/sec: 366.559\n",
      "INFO:tensorflow:loss = 0.00023689053, step = 30201 (0.272 sec)\n",
      "INFO:tensorflow:global_step/sec: 381.072\n",
      "INFO:tensorflow:loss = 0.00015482685, step = 30301 (0.263 sec)\n",
      "INFO:tensorflow:global_step/sec: 373.594\n",
      "INFO:tensorflow:loss = 0.0004218448, step = 30401 (0.268 sec)\n",
      "INFO:tensorflow:global_step/sec: 385.542\n",
      "INFO:tensorflow:loss = 0.0013908577, step = 30501 (0.259 sec)\n",
      "INFO:tensorflow:global_step/sec: 372.893\n",
      "INFO:tensorflow:loss = 0.0003872804, step = 30601 (0.268 sec)\n",
      "INFO:tensorflow:global_step/sec: 375.701\n",
      "INFO:tensorflow:loss = 0.0002955671, step = 30701 (0.267 sec)\n",
      "INFO:tensorflow:global_step/sec: 368.189\n",
      "INFO:tensorflow:loss = 0.00014181735, step = 30801 (0.271 sec)\n",
      "INFO:tensorflow:global_step/sec: 368.265\n",
      "INFO:tensorflow:loss = 0.0004126694, step = 30901 (0.272 sec)\n",
      "INFO:tensorflow:global_step/sec: 366.6\n",
      "INFO:tensorflow:loss = 0.00018543543, step = 31001 (0.273 sec)\n",
      "INFO:tensorflow:global_step/sec: 383.898\n",
      "INFO:tensorflow:loss = 0.0008964513, step = 31101 (0.261 sec)\n",
      "INFO:tensorflow:global_step/sec: 356.601\n",
      "INFO:tensorflow:loss = 0.0004919127, step = 31201 (0.281 sec)\n",
      "INFO:tensorflow:global_step/sec: 375.541\n",
      "INFO:tensorflow:loss = 0.00078314036, step = 31301 (0.266 sec)\n",
      "INFO:tensorflow:global_step/sec: 367.97\n",
      "INFO:tensorflow:loss = 0.0006951456, step = 31401 (0.272 sec)\n",
      "INFO:tensorflow:global_step/sec: 384.419\n",
      "INFO:tensorflow:loss = 0.00028766142, step = 31501 (0.260 sec)\n",
      "INFO:tensorflow:global_step/sec: 359.14\n",
      "INFO:tensorflow:loss = 4.7468466e-06, step = 31601 (0.278 sec)\n",
      "INFO:tensorflow:global_step/sec: 372.447\n",
      "INFO:tensorflow:loss = 0.00016331911, step = 31701 (0.269 sec)\n",
      "INFO:tensorflow:global_step/sec: 375.058\n",
      "INFO:tensorflow:loss = 0.0002983055, step = 31801 (0.267 sec)\n",
      "INFO:tensorflow:global_step/sec: 374.864\n",
      "INFO:tensorflow:loss = 0.0010821951, step = 31901 (0.267 sec)\n",
      "INFO:tensorflow:global_step/sec: 352.379\n",
      "INFO:tensorflow:loss = 0.0011439391, step = 32001 (0.284 sec)\n",
      "INFO:tensorflow:global_step/sec: 340.704\n",
      "INFO:tensorflow:loss = 0.0004070892, step = 32101 (0.294 sec)\n",
      "INFO:tensorflow:global_step/sec: 378.707\n",
      "INFO:tensorflow:loss = 0.00074291555, step = 32201 (0.264 sec)\n",
      "INFO:tensorflow:global_step/sec: 371.235\n",
      "INFO:tensorflow:loss = 7.8838e-05, step = 32301 (0.269 sec)\n",
      "INFO:tensorflow:global_step/sec: 383.195\n",
      "INFO:tensorflow:loss = 0.00016577024, step = 32401 (0.261 sec)\n",
      "INFO:tensorflow:global_step/sec: 368.986\n",
      "INFO:tensorflow:loss = 0.0002166207, step = 32501 (0.271 sec)\n",
      "INFO:tensorflow:global_step/sec: 385.082\n",
      "INFO:tensorflow:loss = 0.00087725744, step = 32601 (0.260 sec)\n",
      "INFO:tensorflow:global_step/sec: 361.235\n",
      "INFO:tensorflow:loss = 0.00059527793, step = 32701 (0.276 sec)\n",
      "INFO:tensorflow:global_step/sec: 371.438\n",
      "INFO:tensorflow:loss = 0.00016777702, step = 32801 (0.270 sec)\n",
      "INFO:tensorflow:global_step/sec: 360.546\n",
      "INFO:tensorflow:loss = 0.00034325148, step = 32901 (0.277 sec)\n",
      "INFO:tensorflow:global_step/sec: 376.002\n",
      "INFO:tensorflow:loss = 0.00011735745, step = 33001 (0.265 sec)\n",
      "INFO:tensorflow:global_step/sec: 358.344\n",
      "INFO:tensorflow:loss = 8.8903864e-05, step = 33101 (0.279 sec)\n",
      "INFO:tensorflow:global_step/sec: 340.486\n",
      "INFO:tensorflow:loss = 0.0007837784, step = 33201 (0.294 sec)\n",
      "INFO:tensorflow:global_step/sec: 343.506\n",
      "INFO:tensorflow:loss = 0.0003058719, step = 33301 (0.291 sec)\n",
      "INFO:tensorflow:global_step/sec: 363.161\n",
      "INFO:tensorflow:loss = 0.00016671073, step = 33401 (0.275 sec)\n",
      "INFO:tensorflow:global_step/sec: 378.93\n",
      "INFO:tensorflow:loss = 0.00020897016, step = 33501 (0.264 sec)\n",
      "INFO:tensorflow:global_step/sec: 368.633\n",
      "INFO:tensorflow:loss = 0.00020513858, step = 33601 (0.272 sec)\n",
      "INFO:tensorflow:global_step/sec: 385.438\n",
      "INFO:tensorflow:loss = 0.0002558412, step = 33701 (0.260 sec)\n",
      "INFO:tensorflow:global_step/sec: 342.928\n",
      "INFO:tensorflow:loss = 0.0009704017, step = 33801 (0.291 sec)\n",
      "INFO:tensorflow:global_step/sec: 364.366\n",
      "INFO:tensorflow:loss = 4.751779e-05, step = 33901 (0.275 sec)\n",
      "INFO:tensorflow:global_step/sec: 366.075\n",
      "INFO:tensorflow:loss = 0.00036905392, step = 34001 (0.273 sec)\n",
      "INFO:tensorflow:global_step/sec: 318.334\n",
      "INFO:tensorflow:loss = 0.00044084142, step = 34101 (0.315 sec)\n",
      "INFO:tensorflow:global_step/sec: 357.205\n",
      "INFO:tensorflow:loss = 0.00025833328, step = 34201 (0.279 sec)\n",
      "INFO:tensorflow:global_step/sec: 375.737\n",
      "INFO:tensorflow:loss = 0.00037201762, step = 34301 (0.266 sec)\n",
      "INFO:tensorflow:global_step/sec: 358.38\n",
      "INFO:tensorflow:loss = 0.00030357673, step = 34401 (0.279 sec)\n",
      "INFO:tensorflow:global_step/sec: 365.598\n",
      "INFO:tensorflow:loss = 0.0005358131, step = 34501 (0.274 sec)\n",
      "INFO:tensorflow:global_step/sec: 363.328\n",
      "INFO:tensorflow:loss = 0.0004512285, step = 34601 (0.275 sec)\n",
      "INFO:tensorflow:global_step/sec: 374.585\n",
      "INFO:tensorflow:loss = 5.8249338e-05, step = 34701 (0.267 sec)\n",
      "INFO:tensorflow:global_step/sec: 376.197\n",
      "INFO:tensorflow:loss = 0.0003421241, step = 34801 (0.266 sec)\n",
      "INFO:tensorflow:global_step/sec: 360.272\n",
      "INFO:tensorflow:loss = 3.880079e-05, step = 34901 (0.278 sec)\n",
      "INFO:tensorflow:global_step/sec: 382.757\n",
      "INFO:tensorflow:loss = 0.00027213, step = 35001 (0.261 sec)\n",
      "INFO:tensorflow:global_step/sec: 370.236\n",
      "INFO:tensorflow:loss = 0.00025866923, step = 35101 (0.270 sec)\n",
      "INFO:tensorflow:global_step/sec: 381.959\n",
      "INFO:tensorflow:loss = 0.00020010845, step = 35201 (0.262 sec)\n",
      "INFO:tensorflow:global_step/sec: 359.632\n",
      "INFO:tensorflow:loss = 0.00055940537, step = 35301 (0.278 sec)\n",
      "INFO:tensorflow:global_step/sec: 379.047\n",
      "INFO:tensorflow:loss = 0.00025187223, step = 35401 (0.264 sec)\n",
      "INFO:tensorflow:global_step/sec: 377.014\n",
      "INFO:tensorflow:loss = 0.00016276624, step = 35501 (0.265 sec)\n",
      "INFO:tensorflow:global_step/sec: 370.118\n",
      "INFO:tensorflow:loss = 0.00034951005, step = 35601 (0.270 sec)\n",
      "INFO:tensorflow:global_step/sec: 365.58\n",
      "INFO:tensorflow:loss = 0.00017580065, step = 35701 (0.273 sec)\n",
      "INFO:tensorflow:global_step/sec: 377.033\n",
      "INFO:tensorflow:loss = 0.0006316687, step = 35801 (0.266 sec)\n",
      "INFO:tensorflow:global_step/sec: 373.516\n",
      "INFO:tensorflow:loss = 0.00026345093, step = 35901 (0.267 sec)\n",
      "INFO:tensorflow:global_step/sec: 363.144\n",
      "INFO:tensorflow:loss = 0.00027777726, step = 36001 (0.275 sec)\n",
      "INFO:tensorflow:global_step/sec: 365.036\n",
      "INFO:tensorflow:loss = 0.00057723915, step = 36101 (0.274 sec)\n",
      "INFO:tensorflow:global_step/sec: 377.426\n",
      "INFO:tensorflow:loss = 0.00018509744, step = 36201 (0.265 sec)\n",
      "INFO:tensorflow:global_step/sec: 362.37\n",
      "INFO:tensorflow:loss = 0.0002074745, step = 36301 (0.277 sec)\n",
      "INFO:tensorflow:global_step/sec: 368.414\n",
      "INFO:tensorflow:loss = 4.037378e-05, step = 36401 (0.272 sec)\n",
      "INFO:tensorflow:global_step/sec: 369.227\n",
      "INFO:tensorflow:loss = 0.0002947525, step = 36501 (0.270 sec)\n",
      "INFO:tensorflow:global_step/sec: 380.923\n",
      "INFO:tensorflow:loss = 0.00057854655, step = 36601 (0.262 sec)\n",
      "INFO:tensorflow:global_step/sec: 362.19\n",
      "INFO:tensorflow:loss = 0.00038773438, step = 36701 (0.276 sec)\n",
      "INFO:tensorflow:global_step/sec: 372.751\n",
      "INFO:tensorflow:loss = 0.00021339873, step = 36801 (0.269 sec)\n",
      "INFO:tensorflow:global_step/sec: 369.198\n",
      "INFO:tensorflow:loss = 0.00017344754, step = 36901 (0.270 sec)\n",
      "INFO:tensorflow:global_step/sec: 368.369\n",
      "INFO:tensorflow:loss = 0.0003983422, step = 37001 (0.271 sec)\n",
      "INFO:tensorflow:global_step/sec: 370.302\n",
      "INFO:tensorflow:loss = 0.0011412438, step = 37101 (0.271 sec)\n",
      "INFO:tensorflow:global_step/sec: 365.175\n",
      "INFO:tensorflow:loss = 0.00017734389, step = 37201 (0.274 sec)\n",
      "INFO:tensorflow:global_step/sec: 375.104\n",
      "INFO:tensorflow:loss = 6.124267e-05, step = 37301 (0.266 sec)\n",
      "INFO:tensorflow:global_step/sec: 375.016\n",
      "INFO:tensorflow:loss = 0.00014041485, step = 37401 (0.266 sec)\n",
      "INFO:tensorflow:global_step/sec: 348.424\n",
      "INFO:tensorflow:loss = 0.0002026855, step = 37501 (0.287 sec)\n",
      "INFO:tensorflow:global_step/sec: 367.257\n",
      "INFO:tensorflow:loss = 0.00023127516, step = 37601 (0.272 sec)\n",
      "INFO:tensorflow:global_step/sec: 379.481\n",
      "INFO:tensorflow:loss = 0.00032815768, step = 37701 (0.264 sec)\n",
      "INFO:tensorflow:global_step/sec: 363.676\n",
      "INFO:tensorflow:loss = 0.00042209442, step = 37801 (0.275 sec)\n",
      "INFO:tensorflow:global_step/sec: 378.684\n",
      "INFO:tensorflow:loss = 0.0004196611, step = 37901 (0.265 sec)\n",
      "INFO:tensorflow:global_step/sec: 357.868\n",
      "INFO:tensorflow:loss = 0.0003000069, step = 38001 (0.279 sec)\n",
      "INFO:tensorflow:global_step/sec: 379.482\n",
      "INFO:tensorflow:loss = 0.00032516866, step = 38101 (0.263 sec)\n",
      "INFO:tensorflow:global_step/sec: 339.975\n",
      "INFO:tensorflow:loss = 0.00016811877, step = 38201 (0.294 sec)\n",
      "INFO:tensorflow:global_step/sec: 366.89\n",
      "INFO:tensorflow:loss = 0.00022165805, step = 38301 (0.272 sec)\n",
      "INFO:tensorflow:global_step/sec: 363.66\n",
      "INFO:tensorflow:loss = 0.00027484668, step = 38401 (0.275 sec)\n",
      "INFO:tensorflow:global_step/sec: 394.802\n",
      "INFO:tensorflow:loss = 0.0006273467, step = 38501 (0.254 sec)\n",
      "INFO:tensorflow:global_step/sec: 360.416\n",
      "INFO:tensorflow:loss = 0.00044315512, step = 38601 (0.277 sec)\n",
      "INFO:tensorflow:global_step/sec: 375.732\n",
      "INFO:tensorflow:loss = 0.00014759215, step = 38701 (0.266 sec)\n",
      "INFO:tensorflow:global_step/sec: 373.425\n",
      "INFO:tensorflow:loss = 0.00012716455, step = 38801 (0.268 sec)\n",
      "INFO:tensorflow:global_step/sec: 369.496\n",
      "INFO:tensorflow:loss = 0.0005179381, step = 38901 (0.272 sec)\n",
      "INFO:tensorflow:global_step/sec: 364.912\n",
      "INFO:tensorflow:loss = 0.000328342, step = 39001 (0.273 sec)\n",
      "INFO:tensorflow:global_step/sec: 370.826\n",
      "INFO:tensorflow:loss = 0.00017160807, step = 39101 (0.270 sec)\n",
      "INFO:tensorflow:global_step/sec: 379.583\n",
      "INFO:tensorflow:loss = 0.00012774795, step = 39201 (0.264 sec)\n",
      "INFO:tensorflow:global_step/sec: 358.64\n",
      "INFO:tensorflow:loss = 0.00063016766, step = 39301 (0.279 sec)\n",
      "INFO:tensorflow:global_step/sec: 385.591\n",
      "INFO:tensorflow:loss = 0.00027205952, step = 39401 (0.259 sec)\n",
      "INFO:tensorflow:global_step/sec: 371.816\n",
      "INFO:tensorflow:loss = 4.353865e-05, step = 39501 (0.269 sec)\n",
      "INFO:tensorflow:global_step/sec: 374.836\n",
      "INFO:tensorflow:loss = 0.00022518542, step = 39601 (0.266 sec)\n",
      "INFO:tensorflow:global_step/sec: 355.057\n",
      "INFO:tensorflow:loss = 5.2900556e-05, step = 39701 (0.282 sec)\n",
      "INFO:tensorflow:global_step/sec: 381.783\n",
      "INFO:tensorflow:loss = 0.00043295257, step = 39801 (0.262 sec)\n",
      "INFO:tensorflow:global_step/sec: 367.345\n",
      "INFO:tensorflow:loss = 0.00014928341, step = 39901 (0.272 sec)\n",
      "INFO:tensorflow:Saving checkpoints for 40000 into /tmp/tmpn1nrxy1e/model.ckpt.\n",
      "INFO:tensorflow:Loss for final step: 0.000105015206.\n"
     ]
    },
    {
     "data": {
      "text/plain": [
       "''"
      ]
     },
     "execution_count": 8,
     "metadata": {},
     "output_type": "execute_result"
    },
    {
     "name": "stdout",
     "output_type": "stream",
     "text": [
      "time: 2min 4s\n"
     ]
    }
   ],
   "source": [
    "feature_cols = tf.contrib.learn.infer_real_valued_columns_from_input(X_train_scaled)\n",
    "dnn_clf = tf.contrib.learn.DNNClassifier(hidden_units=[300,100], n_classes=10,\n",
    "                                         feature_columns=feature_cols)\n",
    "dnn_clf = tf.contrib.learn.SKCompat(dnn_clf)\n",
    "dnn_clf.fit(X_train_scaled, y_train, batch_size=50, steps=40000)\n",
    ";"
   ]
  },
  {
   "cell_type": "code",
   "execution_count": 9,
   "metadata": {
    "collapsed": false
   },
   "outputs": [
    {
     "name": "stdout",
     "output_type": "stream",
     "text": [
      "INFO:tensorflow:Graph was finalized.\n",
      "WARNING:tensorflow:From /home/caiolmartinelli/.local/lib/python3.6/site-packages/tensorflow/python/training/saver.py:1266: checkpoint_exists (from tensorflow.python.training.checkpoint_management) is deprecated and will be removed in a future version.\n",
      "Instructions for updating:\n",
      "Use standard file APIs to check for files with this prefix.\n",
      "INFO:tensorflow:Restoring parameters from /tmp/tmpn1nrxy1e/model.ckpt-40000\n",
      "INFO:tensorflow:Running local_init_op.\n",
      "INFO:tensorflow:Done running local_init_op.\n"
     ]
    },
    {
     "data": {
      "text/plain": [
       "0.9398"
      ]
     },
     "execution_count": 9,
     "metadata": {},
     "output_type": "execute_result"
    },
    {
     "name": "stdout",
     "output_type": "stream",
     "text": [
      "time: 676 ms\n"
     ]
    }
   ],
   "source": [
    "y_pred = dnn_clf.predict(X_test)\n",
    "accuracy_score(y_test, y_pred['classes'])"
   ]
  },
  {
   "cell_type": "markdown",
   "metadata": {},
   "source": [
    "## Training a DNN Using Plain TensorFlow"
   ]
  },
  {
   "cell_type": "markdown",
   "metadata": {},
   "source": [
    "### Construction Phase\n",
    "\n",
    "Creating the diagram in two different ways, also creating a initialization node and a Saver."
   ]
  },
  {
   "cell_type": "code",
   "execution_count": 10,
   "metadata": {
    "collapsed": false
   },
   "outputs": [
    {
     "name": "stdout",
     "output_type": "stream",
     "text": [
      "time: 5.44 ms\n"
     ]
    }
   ],
   "source": [
    "n_inputs = 28*28\n",
    "n_hidden1 = 300\n",
    "n_hidden2 = 100\n",
    "n_outputs = 10"
   ]
  },
  {
   "cell_type": "code",
   "execution_count": 11,
   "metadata": {
    "collapsed": false
   },
   "outputs": [
    {
     "name": "stdout",
     "output_type": "stream",
     "text": [
      "time: 59.7 ms\n"
     ]
    }
   ],
   "source": [
    "X = tf.placeholder(tf.float32, shape=(None, n_inputs), name='X')\n",
    "y = tf.placeholder(tf.int64, shape=(None), name='y')"
   ]
  },
  {
   "cell_type": "markdown",
   "metadata": {},
   "source": [
    "Creating neuron layers to create the DNN"
   ]
  },
  {
   "cell_type": "code",
   "execution_count": 12,
   "metadata": {
    "collapsed": false
   },
   "outputs": [
    {
     "name": "stdout",
     "output_type": "stream",
     "text": [
      "time: 90.4 ms\n"
     ]
    }
   ],
   "source": [
    "def neuron_layer(X, n_neurons, name, activation=None):\n",
    "    with tf.name_scope(name):\n",
    "        n_inputs = int(X.get_shape()[1])\n",
    "        stddev = 2 / np.sqrt(n_inputs + n_neurons)\n",
    "        init = tf.truncated_normal((n_inputs, n_neurons), stddev=stddev)\n",
    "        W = tf.Variable(init, name='kernel')\n",
    "        b = tf.Variable(tf.zeros([n_neurons]), name='bias')\n",
    "        Z = tf.matmul(X, W) +  b\n",
    "        if activation is not None:\n",
    "            return activation(Z)\n",
    "        else:\n",
    "            return Z"
   ]
  },
  {
   "cell_type": "code",
   "execution_count": 13,
   "metadata": {
    "collapsed": false
   },
   "outputs": [
    {
     "name": "stdout",
     "output_type": "stream",
     "text": [
      "time: 129 ms\n"
     ]
    }
   ],
   "source": [
    "with tf.name_scope(\"dnn\"):\n",
    "    hidden1 = neuron_layer(X, n_hidden1, name='hidden1',\n",
    "                           activation=tf.nn.relu)\n",
    "    hidden2 = neuron_layer(X, n_hidden2, name='hidden2',\n",
    "                           activation=tf.nn.relu)\n",
    "    logits = neuron_layer(hidden2, n_outputs, name='outputs')"
   ]
  },
  {
   "cell_type": "markdown",
   "metadata": {},
   "source": [
    "Using tf.layers to create the DNN"
   ]
  },
  {
   "cell_type": "code",
   "execution_count": 14,
   "metadata": {
    "collapsed": false
   },
   "outputs": [
    {
     "name": "stdout",
     "output_type": "stream",
     "text": [
      "WARNING:tensorflow:From <ipython-input-14-5f3f7f242f69>:3: dense (from tensorflow.python.layers.core) is deprecated and will be removed in a future version.\n",
      "Instructions for updating:\n",
      "Use keras.layers.dense instead.\n",
      "time: 53.4 ms\n"
     ]
    }
   ],
   "source": [
    "with tf.name_scope(\"dnn\"):\n",
    "    hidden1 = tf.layers.dense(X, n_hidden1, name='hidden1',\n",
    "                           activation=tf.nn.relu)\n",
    "    hidden2 = tf.layers.dense(X, n_hidden2, name='hidden2',\n",
    "                           activation=tf.nn.relu)\n",
    "    logits = tf.layers.dense(hidden2, n_outputs, name='outputs')"
   ]
  },
  {
   "cell_type": "code",
   "execution_count": 15,
   "metadata": {
    "collapsed": false
   },
   "outputs": [
    {
     "name": "stdout",
     "output_type": "stream",
     "text": [
      "time: 105 ms\n"
     ]
    }
   ],
   "source": [
    "with tf.name_scope('loss'):\n",
    "    xentropy = tf.nn.sparse_softmax_cross_entropy_with_logits(labels=y,\n",
    "                                                              logits=logits)\n",
    "    loss = tf.reduce_mean(xentropy, name='loss')"
   ]
  },
  {
   "cell_type": "code",
   "execution_count": 16,
   "metadata": {
    "collapsed": false
   },
   "outputs": [
    {
     "name": "stdout",
     "output_type": "stream",
     "text": [
      "time: 140 ms\n"
     ]
    }
   ],
   "source": [
    "learning_rate = 0.01\n",
    "\n",
    "with tf.name_scope('train'):\n",
    "    optimizer = tf.train.GradientDescentOptimizer(learning_rate)\n",
    "    training_op = optimizer.minimize(loss)"
   ]
  },
  {
   "cell_type": "code",
   "execution_count": 17,
   "metadata": {
    "collapsed": false
   },
   "outputs": [
    {
     "name": "stdout",
     "output_type": "stream",
     "text": [
      "time: 7.24 ms\n"
     ]
    }
   ],
   "source": [
    "with tf.name_scope('eval'):\n",
    "    correct = tf.nn.in_top_k(logits, y, 1)\n",
    "    accuracy = tf.reduce_mean(tf.cast(correct, tf.float32))"
   ]
  },
  {
   "cell_type": "code",
   "execution_count": 18,
   "metadata": {
    "collapsed": false
   },
   "outputs": [
    {
     "name": "stdout",
     "output_type": "stream",
     "text": [
      "time: 151 ms\n"
     ]
    }
   ],
   "source": [
    "init = tf.global_variables_initializer()\n",
    "saver = tf.train.Saver()"
   ]
  },
  {
   "cell_type": "markdown",
   "metadata": {},
   "source": [
    "### Execution Phase"
   ]
  },
  {
   "cell_type": "code",
   "execution_count": 19,
   "metadata": {
    "collapsed": false
   },
   "outputs": [
    {
     "name": "stdout",
     "output_type": "stream",
     "text": [
      "WARNING:tensorflow:From <ipython-input-19-54368a95c440>:2: read_data_sets (from tensorflow.contrib.learn.python.learn.datasets.mnist) is deprecated and will be removed in a future version.\n",
      "Instructions for updating:\n",
      "Please use alternatives such as official/mnist/dataset.py from tensorflow/models.\n",
      "WARNING:tensorflow:From /home/caiolmartinelli/.local/lib/python3.6/site-packages/tensorflow/contrib/learn/python/learn/datasets/mnist.py:260: maybe_download (from tensorflow.contrib.learn.python.learn.datasets.base) is deprecated and will be removed in a future version.\n",
      "Instructions for updating:\n",
      "Please write your own downloading logic.\n",
      "WARNING:tensorflow:From /home/caiolmartinelli/.local/lib/python3.6/site-packages/tensorflow/contrib/learn/python/learn/datasets/base.py:252: _internal_retry.<locals>.wrap.<locals>.wrapped_fn (from tensorflow.contrib.learn.python.learn.datasets.base) is deprecated and will be removed in a future version.\n",
      "Instructions for updating:\n",
      "Please use urllib or similar directly.\n",
      "Successfully downloaded train-images-idx3-ubyte.gz 9912422 bytes.\n",
      "WARNING:tensorflow:From /home/caiolmartinelli/.local/lib/python3.6/site-packages/tensorflow/contrib/learn/python/learn/datasets/mnist.py:262: extract_images (from tensorflow.contrib.learn.python.learn.datasets.mnist) is deprecated and will be removed in a future version.\n",
      "Instructions for updating:\n",
      "Please use tf.data to implement this functionality.\n",
      "Extracting /tmp/data/train-images-idx3-ubyte.gz\n",
      "Successfully downloaded train-labels-idx1-ubyte.gz 28881 bytes.\n",
      "WARNING:tensorflow:From /home/caiolmartinelli/.local/lib/python3.6/site-packages/tensorflow/contrib/learn/python/learn/datasets/mnist.py:267: extract_labels (from tensorflow.contrib.learn.python.learn.datasets.mnist) is deprecated and will be removed in a future version.\n",
      "Instructions for updating:\n",
      "Please use tf.data to implement this functionality.\n",
      "Extracting /tmp/data/train-labels-idx1-ubyte.gz\n",
      "Successfully downloaded t10k-images-idx3-ubyte.gz 1648877 bytes.\n",
      "Extracting /tmp/data/t10k-images-idx3-ubyte.gz\n",
      "Successfully downloaded t10k-labels-idx1-ubyte.gz 4542 bytes.\n",
      "Extracting /tmp/data/t10k-labels-idx1-ubyte.gz\n",
      "WARNING:tensorflow:From /home/caiolmartinelli/.local/lib/python3.6/site-packages/tensorflow/contrib/learn/python/learn/datasets/mnist.py:290: DataSet.__init__ (from tensorflow.contrib.learn.python.learn.datasets.mnist) is deprecated and will be removed in a future version.\n",
      "Instructions for updating:\n",
      "Please use alternatives such as official/mnist/dataset.py from tensorflow/models.\n",
      "time: 3.97 s\n"
     ]
    }
   ],
   "source": [
    "from tensorflow.examples.tutorials.mnist import input_data\n",
    "mnist = input_data.read_data_sets('/tmp/data/')"
   ]
  },
  {
   "cell_type": "code",
   "execution_count": 20,
   "metadata": {
    "collapsed": false
   },
   "outputs": [
    {
     "name": "stdout",
     "output_type": "stream",
     "text": [
      "time: 389 µs\n"
     ]
    }
   ],
   "source": [
    "n_epochs = 40\n",
    "batch_size = 50"
   ]
  },
  {
   "cell_type": "code",
   "execution_count": 21,
   "metadata": {
    "collapsed": false
   },
   "outputs": [
    {
     "name": "stdout",
     "output_type": "stream",
     "text": [
      "time: 88.1 ms\n"
     ]
    }
   ],
   "source": [
    "if not os.path.exists('chp10/models/'):\n",
    "    if not os.path.exists('chp10/'):\n",
    "        os.mkdir('chp10')\n",
    "    os.mkdir('chp10/models')"
   ]
  },
  {
   "cell_type": "code",
   "execution_count": 22,
   "metadata": {
    "collapsed": false
   },
   "outputs": [
    {
     "name": "stdout",
     "output_type": "stream",
     "text": [
      "time: 106 ms\n"
     ]
    }
   ],
   "source": [
    "if not os.path.exists('chp10/models/dnn'):\n",
    "    os.mkdir('chp10/models/dnn')"
   ]
  },
  {
   "cell_type": "code",
   "execution_count": 23,
   "metadata": {
    "collapsed": false
   },
   "outputs": [
    {
     "name": "stdout",
     "output_type": "stream",
     "text": [
      "0 Train accuracy: 0.86 Val accuracy: 0.8872\n",
      "1 Train accuracy: 0.94 Val accuracy: 0.9074\n",
      "2 Train accuracy: 0.9 Val accuracy: 0.9164\n",
      "3 Train accuracy: 0.92 Val accuracy: 0.924\n",
      "4 Train accuracy: 0.88 Val accuracy: 0.9308\n",
      "5 Train accuracy: 0.88 Val accuracy: 0.9354\n",
      "6 Train accuracy: 0.92 Val accuracy: 0.938\n",
      "7 Train accuracy: 0.98 Val accuracy: 0.94\n",
      "8 Train accuracy: 0.98 Val accuracy: 0.943\n",
      "9 Train accuracy: 0.94 Val accuracy: 0.9454\n",
      "10 Train accuracy: 0.94 Val accuracy: 0.9484\n",
      "11 Train accuracy: 0.96 Val accuracy: 0.949\n",
      "12 Train accuracy: 1.0 Val accuracy: 0.9524\n",
      "13 Train accuracy: 0.92 Val accuracy: 0.9524\n",
      "14 Train accuracy: 0.94 Val accuracy: 0.9528\n",
      "15 Train accuracy: 0.98 Val accuracy: 0.9562\n",
      "16 Train accuracy: 0.98 Val accuracy: 0.9564\n",
      "17 Train accuracy: 0.96 Val accuracy: 0.9584\n",
      "18 Train accuracy: 0.96 Val accuracy: 0.96\n",
      "19 Train accuracy: 0.96 Val accuracy: 0.9608\n",
      "20 Train accuracy: 0.98 Val accuracy: 0.962\n",
      "21 Train accuracy: 0.96 Val accuracy: 0.9624\n",
      "22 Train accuracy: 0.96 Val accuracy: 0.9636\n",
      "23 Train accuracy: 0.98 Val accuracy: 0.9638\n",
      "24 Train accuracy: 0.96 Val accuracy: 0.9632\n",
      "25 Train accuracy: 1.0 Val accuracy: 0.9648\n",
      "26 Train accuracy: 0.98 Val accuracy: 0.9644\n",
      "27 Train accuracy: 0.92 Val accuracy: 0.9648\n",
      "28 Train accuracy: 0.96 Val accuracy: 0.965\n",
      "29 Train accuracy: 0.98 Val accuracy: 0.9662\n",
      "30 Train accuracy: 1.0 Val accuracy: 0.9662\n",
      "31 Train accuracy: 0.98 Val accuracy: 0.9662\n",
      "32 Train accuracy: 0.98 Val accuracy: 0.9672\n",
      "33 Train accuracy: 1.0 Val accuracy: 0.9672\n",
      "34 Train accuracy: 0.98 Val accuracy: 0.9678\n",
      "35 Train accuracy: 0.98 Val accuracy: 0.9684\n",
      "36 Train accuracy: 0.98 Val accuracy: 0.9692\n",
      "37 Train accuracy: 1.0 Val accuracy: 0.9696\n",
      "38 Train accuracy: 1.0 Val accuracy: 0.9694\n",
      "39 Train accuracy: 0.98 Val accuracy: 0.9696\n",
      "time: 37 s\n"
     ]
    }
   ],
   "source": [
    "with tf.Session() as sess:\n",
    "    init.run()\n",
    "    for epoch in range(n_epochs):\n",
    "        for iteration in range(mnist.train.num_examples // batch_size):\n",
    "            X_batch, y_batch = mnist.train.next_batch(batch_size)\n",
    "            sess.run(training_op, feed_dict={X: X_batch, y: y_batch})\n",
    "        acc_train = accuracy.eval(feed_dict={X: X_batch, y: y_batch})\n",
    "        acc_val = accuracy.eval(feed_dict={X: mnist.validation.images, \n",
    "                                           y: mnist.validation.labels})\n",
    "        print(epoch, \"Train accuracy:\", acc_train, \"Val accuracy:\", acc_val)\n",
    "    save_path = saver.save(sess, \"chp10/models/dnn/my_model_final.ckpt\")"
   ]
  },
  {
   "cell_type": "markdown",
   "metadata": {},
   "source": [
    "### Using the Neural Network"
   ]
  },
  {
   "cell_type": "code",
   "execution_count": 25,
   "metadata": {
    "collapsed": false
   },
   "outputs": [
    {
     "name": "stdout",
     "output_type": "stream",
     "text": [
      "INFO:tensorflow:Restoring parameters from chp10/models/dnn/my_model_final.ckpt\n",
      "time: 96.9 ms\n"
     ]
    }
   ],
   "source": [
    "with tf.Session() as sess:\n",
    "    saver.restore(sess, \"chp10/models/dnn/my_model_final.ckpt\")\n",
    "    Z = logits.eval(feed_dict={X: X_test})\n",
    "    y_pred = np.argmax(Z, axis=1)"
   ]
  },
  {
   "cell_type": "code",
   "execution_count": 27,
   "metadata": {
    "collapsed": false
   },
   "outputs": [
    {
     "data": {
      "text/plain": [
       "0.9671"
      ]
     },
     "execution_count": 27,
     "metadata": {},
     "output_type": "execute_result"
    },
    {
     "name": "stdout",
     "output_type": "stream",
     "text": [
      "time: 5.15 ms\n"
     ]
    }
   ],
   "source": [
    "accuracy_score(y_test, y_pred)"
   ]
  }
 ],
 "metadata": {
  "kernelspec": {
   "display_name": "Python 3",
   "language": "python",
   "name": "python3"
  },
  "language_info": {
   "codemirror_mode": {
    "name": "ipython",
    "version": 3
   },
   "file_extension": ".py",
   "mimetype": "text/x-python",
   "name": "python",
   "nbconvert_exporter": "python",
   "pygments_lexer": "ipython3",
   "version": "3.6.3"
  }
 },
 "nbformat": 4,
 "nbformat_minor": 2
}
